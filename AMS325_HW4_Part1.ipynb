{
 "cells": [
  {
   "cell_type": "code",
   "execution_count": 1,
   "id": "e4117107",
   "metadata": {},
   "outputs": [
    {
     "name": "stdout",
     "output_type": "stream",
     "text": [
      "PageRank: [0.09999993 0.15000006 0.10000009 0.19999981 0.30000028 0.14999984]\n",
      "M Eigenvector: [0.1  0.15 0.1  0.2  0.3  0.15]\n"
     ]
    }
   ],
   "source": [
    "#Breif Overview:\n",
    "#This script's purpose is to take a page matrix from online and finding its page rank through matrix multiplcation and alpha values and summations\n",
    "#The rank of the matrix should be associated with an eigenvector of the matrix associated with the highest eigenvalue when alpha is 1\n",
    "#The eigenvector and rank's difference in values should be affected by the alpha value\n",
    "import numpy as np #import proper libraries\n",
    "A =np.array([[0, 1, 1, 0, 0, 0],\n",
    "             [0, 0, 1, 1, 0, 0],\n",
    "             [1, 0, 0, 0, 0, 0],\n",
    "             [0, 1, 0, 0, 1, 0],\n",
    "             [0, 1, 0, 1, 0, 1],\n",
    "             [0, 0, 0, 0, 1, 0]]) #Make the initial array\n",
    "M=A/A.sum(axis=0) #Normalize the matrix but doing the sum of the column method\n",
    "r=np.array([1/6,1/6,1/6,1/6,1/6,1/6]) #MaKE THE original r vector\n",
    "alpha=1 #Alpha parameter\n",
    "threshold=1e-6 #Proper threshold\n",
    "while True: #While loop \n",
    "    r_prime=alpha*np.dot(M,r)+(1-alpha)*r\n",
    "    if np.linalg.norm(r_prime-r)<threshold:\n",
    "        break #Break when the change is less than the threshhold\n",
    "    r=r_prime\n",
    "    \n",
    "r=r/np.sum(r)\n",
    "\n",
    "eigenvalues, eigenvectors = np.linalg.eig(M)\n",
    "Mev = eigenvectors[:,np.argmax(np.real(eigenvalues))].real #Eigenvector of M #Make sure the numbers are real because the eigenvalues/vectors can have complex numbers, takes the eigenvector associated with the largest eigenvalue\n",
    "print(\"PageRank:\", r_prime)\n",
    "Mev=Mev/np.sum(Mev)  #Normalize the eigenvector to match the rank of the matrix\n",
    "print(\"M Eigenvector:\", Mev)"
   ]
  },
  {
   "cell_type": "code",
   "execution_count": 2,
   "id": "4440a492",
   "metadata": {},
   "outputs": [
    {
     "name": "stdout",
     "output_type": "stream",
     "text": [
      "PageRank: [0.11111115 0.11111115 0.16666651 0.16666651 0.33333371 0.11111097]\n",
      "M Eigenvector: [0.11111111 0.11111111 0.16666667 0.16666667 0.33333333 0.11111111]\n"
     ]
    }
   ],
   "source": [
    "import numpy as np\n",
    "A1 =np.array([[0, 1, 1, 0, 0, 0],\n",
    "             [1, 0, 1, 0, 0, 0],\n",
    "             [1, 0, 0, 0, 1, 0],\n",
    "             [0, 1, 0, 0, 1, 0],\n",
    "             [0, 0, 1, 1, 0, 1],\n",
    "             [0, 0, 0, 0, 1, 0]]) #ANOTHER MATRIX with the same code\n",
    "M=A1/A1.sum(axis=0)\n",
    "r=np.array([1/6,1/6,1/6,1/6,1/6,1/6])\n",
    "alpha=1\n",
    "threshold = 1e-6\n",
    "while True:\n",
    "    r_prime=alpha*np.dot(M,r)+(1-alpha)*r\n",
    "    if np.linalg.norm(r_prime-r)<threshold:\n",
    "        break\n",
    "    r=r_prime\n",
    "r=r/np.sum(r)\n",
    "eigenvalues, eigenvectors = np.linalg.eig(M)\n",
    "Mev = eigenvectors[:,np.argmax(np.real(eigenvalues))].real #Eigenvector of M\n",
    "print(\"PageRank:\", r_prime)\n",
    "Mev=Mev/np.sum(Mev) \n",
    "print(\"M Eigenvector:\", Mev)"
   ]
  }
 ],
 "metadata": {
  "kernelspec": {
   "display_name": "Python 3 (ipykernel)",
   "language": "python",
   "name": "python3"
  },
  "language_info": {
   "codemirror_mode": {
    "name": "ipython",
    "version": 3
   },
   "file_extension": ".py",
   "mimetype": "text/x-python",
   "name": "python",
   "nbconvert_exporter": "python",
   "pygments_lexer": "ipython3",
   "version": "3.9.13"
  }
 },
 "nbformat": 4,
 "nbformat_minor": 5
}
